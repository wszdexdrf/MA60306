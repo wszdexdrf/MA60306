{
  "cells": [
    {
      "cell_type": "code",
      "execution_count": 1,
      "metadata": {
        "colab": {
          "base_uri": "https://localhost:8080/"
        },
        "id": "xhbinQ3NTBWq",
        "outputId": "e4fc97da-3d23-415d-c767-455d0fcc9b0f"
      },
      "outputs": [],
      "source": [
        "# ! gdown 1qhn9-RgkfFHIGD7pDGIvwjQehGKM-5Bi"
      ]
    },
    {
      "cell_type": "code",
      "execution_count": 2,
      "metadata": {
        "id": "1ZrjgUAYUCrF"
      },
      "outputs": [],
      "source": [
        "from textblob import TextBlob"
      ]
    },
    {
      "cell_type": "code",
      "execution_count": 3,
      "metadata": {
        "id": "pL_marYUSzvZ"
      },
      "outputs": [],
      "source": [
        "import pandas as pd\n",
        "df = pd.read_csv('./scraping/doge.csv')"
      ]
    },
    {
      "cell_type": "code",
      "execution_count": 4,
      "metadata": {
        "colab": {
          "base_uri": "https://localhost:8080/",
          "height": 424
        },
        "id": "Eeq7GrDPTOqx",
        "outputId": "cd5af40f-676e-461d-d7e5-b2e84605e5ba"
      },
      "outputs": [
        {
          "data": {
            "text/html": [
              "<div>\n",
              "<style scoped>\n",
              "    .dataframe tbody tr th:only-of-type {\n",
              "        vertical-align: middle;\n",
              "    }\n",
              "\n",
              "    .dataframe tbody tr th {\n",
              "        vertical-align: top;\n",
              "    }\n",
              "\n",
              "    .dataframe thead th {\n",
              "        text-align: right;\n",
              "    }\n",
              "</style>\n",
              "<table border=\"1\" class=\"dataframe\">\n",
              "  <thead>\n",
              "    <tr style=\"text-align: right;\">\n",
              "      <th></th>\n",
              "      <th>Datetime</th>\n",
              "      <th>Tweet Id</th>\n",
              "      <th>Text</th>\n",
              "      <th>Username</th>\n",
              "      <th>Followers</th>\n",
              "    </tr>\n",
              "  </thead>\n",
              "  <tbody>\n",
              "    <tr>\n",
              "      <th>0</th>\n",
              "      <td>1.614557e+09</td>\n",
              "      <td>1366176256534974464</td>\n",
              "      <td>We made @CoinDesk again.\\nAnd it's good news!\\...</td>\n",
              "      <td>JacksonBollock2</td>\n",
              "      <td>441</td>\n",
              "    </tr>\n",
              "    <tr>\n",
              "      <th>1</th>\n",
              "      <td>1.614557e+09</td>\n",
              "      <td>1366176192529723403</td>\n",
              "      <td>@DogeCoinCEO_ Make a meme that shows Elon’s Ru...</td>\n",
              "      <td>Mineo4prez</td>\n",
              "      <td>5</td>\n",
              "    </tr>\n",
              "    <tr>\n",
              "      <th>2</th>\n",
              "      <td>1.614557e+09</td>\n",
              "      <td>1366176181171548162</td>\n",
              "      <td>Live now!  Money giveaway #dogecoin #doge http...</td>\n",
              "      <td>bluehairdave</td>\n",
              "      <td>164</td>\n",
              "    </tr>\n",
              "    <tr>\n",
              "      <th>3</th>\n",
              "      <td>1.614557e+09</td>\n",
              "      <td>1366176162733555714</td>\n",
              "      <td>@Mar3issa \\nAfter tomorrow #dogecoin dm for de...</td>\n",
              "      <td>MCDoge_1</td>\n",
              "      <td>15674</td>\n",
              "    </tr>\n",
              "    <tr>\n",
              "      <th>4</th>\n",
              "      <td>1.614557e+09</td>\n",
              "      <td>1366175961880879119</td>\n",
              "      <td>#Dogecoin https://t.co/aveFCeJvTF</td>\n",
              "      <td>ganggreenie36</td>\n",
              "      <td>2680</td>\n",
              "    </tr>\n",
              "    <tr>\n",
              "      <th>...</th>\n",
              "      <td>...</td>\n",
              "      <td>...</td>\n",
              "      <td>...</td>\n",
              "      <td>...</td>\n",
              "      <td>...</td>\n",
              "    </tr>\n",
              "    <tr>\n",
              "      <th>968780</th>\n",
              "      <td>1.613938e+09</td>\n",
              "      <td>1363581226116907008</td>\n",
              "      <td>@Click2vicky @BrandonDrowns3 @elonmusk 'This i...</td>\n",
              "      <td>RamadanMagdy15</td>\n",
              "      <td>2</td>\n",
              "    </tr>\n",
              "    <tr>\n",
              "      <th>968781</th>\n",
              "      <td>1.613938e+09</td>\n",
              "      <td>1363581218898522113</td>\n",
              "      <td>@Click2vicky @MuratMmturk @elonmusk Announcing...</td>\n",
              "      <td>bumiserpongbsde</td>\n",
              "      <td>127</td>\n",
              "    </tr>\n",
              "    <tr>\n",
              "      <th>968782</th>\n",
              "      <td>1.613938e+09</td>\n",
              "      <td>1363581217782837250</td>\n",
              "      <td>@Click2vicky @PeterSchiff @elonmusk My mum jus...</td>\n",
              "      <td>Mdshahn41660727</td>\n",
              "      <td>2</td>\n",
              "    </tr>\n",
              "    <tr>\n",
              "      <th>968783</th>\n",
              "      <td>1.613938e+09</td>\n",
              "      <td>1363581217325674496</td>\n",
              "      <td>@Click2vicky @unusual_whales @elonmusk One of ...</td>\n",
              "      <td>MA1978250837</td>\n",
              "      <td>9</td>\n",
              "    </tr>\n",
              "    <tr>\n",
              "      <th>968784</th>\n",
              "      <td>1.613938e+09</td>\n",
              "      <td>1363581215614201857</td>\n",
              "      <td>@Click2vicky @TSLAFanMtl @elonmusk The traditi...</td>\n",
              "      <td>sandyjlopez16</td>\n",
              "      <td>1</td>\n",
              "    </tr>\n",
              "  </tbody>\n",
              "</table>\n",
              "<p>968785 rows × 5 columns</p>\n",
              "</div>"
            ],
            "text/plain": [
              "            Datetime             Tweet Id  \\\n",
              "0       1.614557e+09  1366176256534974464   \n",
              "1       1.614557e+09  1366176192529723403   \n",
              "2       1.614557e+09  1366176181171548162   \n",
              "3       1.614557e+09  1366176162733555714   \n",
              "4       1.614557e+09  1366175961880879119   \n",
              "...              ...                  ...   \n",
              "968780  1.613938e+09  1363581226116907008   \n",
              "968781  1.613938e+09  1363581218898522113   \n",
              "968782  1.613938e+09  1363581217782837250   \n",
              "968783  1.613938e+09  1363581217325674496   \n",
              "968784  1.613938e+09  1363581215614201857   \n",
              "\n",
              "                                                     Text         Username  \\\n",
              "0       We made @CoinDesk again.\\nAnd it's good news!\\...  JacksonBollock2   \n",
              "1       @DogeCoinCEO_ Make a meme that shows Elon’s Ru...       Mineo4prez   \n",
              "2       Live now!  Money giveaway #dogecoin #doge http...     bluehairdave   \n",
              "3       @Mar3issa \\nAfter tomorrow #dogecoin dm for de...         MCDoge_1   \n",
              "4                       #Dogecoin https://t.co/aveFCeJvTF    ganggreenie36   \n",
              "...                                                   ...              ...   \n",
              "968780  @Click2vicky @BrandonDrowns3 @elonmusk 'This i...   RamadanMagdy15   \n",
              "968781  @Click2vicky @MuratMmturk @elonmusk Announcing...  bumiserpongbsde   \n",
              "968782  @Click2vicky @PeterSchiff @elonmusk My mum jus...  Mdshahn41660727   \n",
              "968783  @Click2vicky @unusual_whales @elonmusk One of ...     MA1978250837   \n",
              "968784  @Click2vicky @TSLAFanMtl @elonmusk The traditi...    sandyjlopez16   \n",
              "\n",
              "        Followers  \n",
              "0             441  \n",
              "1               5  \n",
              "2             164  \n",
              "3           15674  \n",
              "4            2680  \n",
              "...           ...  \n",
              "968780          2  \n",
              "968781        127  \n",
              "968782          2  \n",
              "968783          9  \n",
              "968784          1  \n",
              "\n",
              "[968785 rows x 5 columns]"
            ]
          },
          "execution_count": 4,
          "metadata": {},
          "output_type": "execute_result"
        }
      ],
      "source": [
        "df"
      ]
    },
    {
      "cell_type": "code",
      "execution_count": 5,
      "metadata": {
        "colab": {
          "base_uri": "https://localhost:8080/"
        },
        "id": "HgxxL_2mTs0L",
        "outputId": "58ae8e65-c1fe-4889-c9bc-e77958ed9fa4"
      },
      "outputs": [
        {
          "name": "stderr",
          "output_type": "stream",
          "text": [
            "[nltk_data] Downloading package stopwords to\n",
            "[nltk_data]     /home/piyushk/nltk_data...\n",
            "[nltk_data]   Package stopwords is already up-to-date!\n"
          ]
        }
      ],
      "source": [
        "import re\n",
        "import nltk\n",
        "from nltk import PorterStemmer\n",
        "ps = PorterStemmer()\n",
        "nltk.download(\"stopwords\")\n",
        "from nltk.corpus import stopwords\n",
        "stop = stopwords.words('english')\n",
        "def cleantweets(txt):\n",
        "  # Remove mentions\n",
        "  txt = re.sub(r\"@\",\"\", txt)\n",
        "  # Remove hashtags\n",
        "  txt = re.sub(r\"#\",\"\", txt)\n",
        "  # Remove urls\n",
        "  txt = re.sub(r\"https?:\\/\\/[ A−Za−z0 −9\\.\\/]+\", \"\", txt)\n",
        "  # Remove Stop Words\n",
        "  txt = ' '.join([word for word in txt.split() if word not in (stop)])\n",
        "  #Stemming\n",
        "  txt = ' '.join([ps.stem(word) for word in txt.split()])\n",
        "  return txt"
      ]
    },
    {
      "cell_type": "code",
      "execution_count": 6,
      "metadata": {
        "id": "A4GGGazWTttD"
      },
      "outputs": [],
      "source": [
        "def getsubjectivity(txt):\n",
        "  return TextBlob(txt).sentiment.subjectivity"
      ]
    },
    {
      "cell_type": "code",
      "execution_count": 7,
      "metadata": {
        "id": "xM45xV7mTwS1"
      },
      "outputs": [],
      "source": [
        "def getpolarity(txt):\n",
        "  return TextBlob(txt).sentiment.polarity"
      ]
    },
    {
      "cell_type": "code",
      "execution_count": 8,
      "metadata": {
        "id": "ze4da8HFTyAe"
      },
      "outputs": [],
      "source": [
        "def getanalysis(a):\n",
        "  if a < 0:\n",
        "    return \"Negative\"\n",
        "  elif a == 0:\n",
        "    return \"Neutral\"\n",
        "  else:\n",
        "    return \"Positive\""
      ]
    },
    {
      "cell_type": "code",
      "execution_count": 9,
      "metadata": {
        "id": "ShUe_HnjTzyH"
      },
      "outputs": [],
      "source": [
        "def prepare_twitter_data(tweet_data):\n",
        "  results = tweet_data.copy()\n",
        "  results[\"clean text\"] = results[\"Text\"].apply(cleantweets)\n",
        "  results[\"polarity\"] = results[\"Text\"].apply(getpolarity)\n",
        "  results[\"subjectivity\"] = results[\"Text\"].apply(getsubjectivity)\n",
        "  results[\"tweet_class\"] = results[\"polarity\"].apply(getanalysis)\n",
        "  return results"
      ]
    },
    {
      "cell_type": "code",
      "execution_count": 11,
      "metadata": {
        "id": "11KeDKKWT4qP"
      },
      "outputs": [],
      "source": [
        "processed_tweets = prepare_twitter_data(df)"
      ]
    },
    {
      "cell_type": "code",
      "execution_count": 12,
      "metadata": {},
      "outputs": [],
      "source": [
        "from langdetect import detect\n",
        "\n",
        "df = pd.DataFrame(\n",
        "    columns=[\n",
        "        \"Datetime\",\n",
        "        \"Tweet Id\",\n",
        "        \"Text\",\n",
        "        \"Username\",\n",
        "        \"Followers\",\n",
        "        \"clean text\",\n",
        "        \"polarity\",\n",
        "        \"subjectivity\",\n",
        "        \"tweet_class\",\n",
        "    ]\n",
        ")\n",
        "from contextlib import suppress\n",
        "import multiprocessing\n",
        "\n",
        "def filter_en_text(i, x):\n",
        "    with suppress(Exception):\n",
        "        return detect(x) == \"en\"\n",
        "with multiprocessing.Pool() as pool:\n",
        "    # Use the pool to apply the filter function to each element in parallel\n",
        "    results = pool.starmap(filter_en_text, enumerate(processed_tweets[\"clean text\"].values))\n",
        "    # Filter the original DataFrame using the results\n",
        "    results = [False if v is None else v for v in results]\n",
        "    df = processed_tweets[results]"
      ]
    },
    {
      "cell_type": "code",
      "execution_count": 14,
      "metadata": {},
      "outputs": [],
      "source": [
        "processed_tweets.to_csv('[doge] processed_tweets.csv')"
      ]
    }
  ],
  "metadata": {
    "colab": {
      "provenance": []
    },
    "kernelspec": {
      "display_name": "Python 3",
      "name": "python3"
    },
    "language_info": {
      "codemirror_mode": {
        "name": "ipython",
        "version": 3
      },
      "file_extension": ".py",
      "mimetype": "text/x-python",
      "name": "python",
      "nbconvert_exporter": "python",
      "pygments_lexer": "ipython3",
      "version": "3.10.9"
    }
  },
  "nbformat": 4,
  "nbformat_minor": 0
}
