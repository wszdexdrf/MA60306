{
 "cells": [
  {
   "cell_type": "code",
   "execution_count": 1,
   "id": "dd9c0d51",
   "metadata": {},
   "outputs": [],
   "source": [
    "import pandas as pd\n",
    "\n",
    "df = pd.read_csv(\"[doge] processed_tweets.csv\", engine=\"python\")\n",
    "df_p = pd.read_csv(\"prices/doge_prices_15m.csv\")\n"
   ]
  },
  {
   "cell_type": "code",
   "execution_count": 2,
   "id": "58f11a4a",
   "metadata": {
    "scrolled": true
   },
   "outputs": [],
   "source": [
    "df = df.sort_values('Datetime')"
   ]
  },
  {
   "cell_type": "code",
   "execution_count": 3,
   "id": "4416fd94",
   "metadata": {
    "scrolled": true
   },
   "outputs": [],
   "source": [
    "from datetime import datetime\n",
    "\n",
    "i = 0\n",
    "while i < len(df):\n",
    "    dt_object = datetime.fromtimestamp(int(float(df.iloc[i][\"Datetime\"])))\n",
    "    if dt_object.minute % 15 == 0:\n",
    "        break\n",
    "    i += 1\n"
   ]
  },
  {
   "cell_type": "code",
   "execution_count": 4,
   "id": "4c69e8de",
   "metadata": {},
   "outputs": [],
   "source": [
    "begin = datetime.fromtimestamp(int(float(df.iloc[i][\"Datetime\"])))\n",
    "end = datetime.fromisoformat(df_p.iloc[-1][\"dateTime\"].split()[0])"
   ]
  },
  {
   "cell_type": "code",
   "execution_count": 5,
   "id": "7413a405",
   "metadata": {},
   "outputs": [
    {
     "data": {
      "text/plain": [
       "datetime.datetime(2021, 2, 1, 5, 30)"
      ]
     },
     "execution_count": 5,
     "metadata": {},
     "output_type": "execute_result"
    }
   ],
   "source": [
    "begin"
   ]
  },
  {
   "cell_type": "code",
   "execution_count": 6,
   "id": "47857dbd",
   "metadata": {},
   "outputs": [],
   "source": [
    "x = 15\n",
    "tlow = int(float(df.iloc[i][\"Datetime\"]))\n",
    "thigh = tlow + x * 60\n",
    "tf = end.timestamp()\n",
    "tlow_array = []\n",
    "thigh_array = []\n",
    "score = []\n"
   ]
  },
  {
   "cell_type": "code",
   "execution_count": 7,
   "id": "89bc45e6",
   "metadata": {},
   "outputs": [],
   "source": [
    "sent, c = 0, 0\n",
    "while thigh < tf:\n",
    "    if int(float(df.iloc[i][\"Datetime\"])) >= tlow and int(float(df.iloc[i][\"Datetime\"])) < thigh:\n",
    "        sent += df.iloc[i][\"polarity\"]\n",
    "        c += 1\n",
    "        i += 1\n",
    "    else:\n",
    "        tlow_array.append(tlow)\n",
    "        thigh_array.append(thigh)\n",
    "        score.append(sent)\n",
    "        tlow = thigh\n",
    "        thigh = tlow + x * 60\n",
    "        sent = 0\n",
    "        c = 0\n"
   ]
  },
  {
   "cell_type": "code",
   "execution_count": 8,
   "id": "06368435",
   "metadata": {},
   "outputs": [],
   "source": [
    "df1 = pd.DataFrame()\n",
    "df1[\"time start\"] = tlow_array\n",
    "df1[\"time high\"] = thigh_array\n",
    "df1[\"sentiment\"] = score\n"
   ]
  },
  {
   "cell_type": "code",
   "execution_count": 9,
   "id": "8f1c0dd3",
   "metadata": {},
   "outputs": [
    {
     "data": {
      "text/html": [
       "<div>\n",
       "<style scoped>\n",
       "    .dataframe tbody tr th:only-of-type {\n",
       "        vertical-align: middle;\n",
       "    }\n",
       "\n",
       "    .dataframe tbody tr th {\n",
       "        vertical-align: top;\n",
       "    }\n",
       "\n",
       "    .dataframe thead th {\n",
       "        text-align: right;\n",
       "    }\n",
       "</style>\n",
       "<table border=\"1\" class=\"dataframe\">\n",
       "  <thead>\n",
       "    <tr style=\"text-align: right;\">\n",
       "      <th></th>\n",
       "      <th>time start</th>\n",
       "      <th>time high</th>\n",
       "      <th>sentiment</th>\n",
       "    </tr>\n",
       "  </thead>\n",
       "  <tbody>\n",
       "    <tr>\n",
       "      <th>0</th>\n",
       "      <td>1612137600</td>\n",
       "      <td>1612138500</td>\n",
       "      <td>21.574494</td>\n",
       "    </tr>\n",
       "    <tr>\n",
       "      <th>1</th>\n",
       "      <td>1612138500</td>\n",
       "      <td>1612139400</td>\n",
       "      <td>26.129070</td>\n",
       "    </tr>\n",
       "    <tr>\n",
       "      <th>2</th>\n",
       "      <td>1612139400</td>\n",
       "      <td>1612140300</td>\n",
       "      <td>29.471794</td>\n",
       "    </tr>\n",
       "    <tr>\n",
       "      <th>3</th>\n",
       "      <td>1612140300</td>\n",
       "      <td>1612141200</td>\n",
       "      <td>25.015827</td>\n",
       "    </tr>\n",
       "    <tr>\n",
       "      <th>4</th>\n",
       "      <td>1612141200</td>\n",
       "      <td>1612142100</td>\n",
       "      <td>20.294897</td>\n",
       "    </tr>\n",
       "    <tr>\n",
       "      <th>...</th>\n",
       "      <td>...</td>\n",
       "      <td>...</td>\n",
       "      <td>...</td>\n",
       "    </tr>\n",
       "    <tr>\n",
       "      <th>2660</th>\n",
       "      <td>1614531600</td>\n",
       "      <td>1614532500</td>\n",
       "      <td>38.047072</td>\n",
       "    </tr>\n",
       "    <tr>\n",
       "      <th>2661</th>\n",
       "      <td>1614532500</td>\n",
       "      <td>1614533400</td>\n",
       "      <td>23.071823</td>\n",
       "    </tr>\n",
       "    <tr>\n",
       "      <th>2662</th>\n",
       "      <td>1614533400</td>\n",
       "      <td>1614534300</td>\n",
       "      <td>26.315925</td>\n",
       "    </tr>\n",
       "    <tr>\n",
       "      <th>2663</th>\n",
       "      <td>1614534300</td>\n",
       "      <td>1614535200</td>\n",
       "      <td>35.276263</td>\n",
       "    </tr>\n",
       "    <tr>\n",
       "      <th>2664</th>\n",
       "      <td>1614535200</td>\n",
       "      <td>1614536100</td>\n",
       "      <td>36.124316</td>\n",
       "    </tr>\n",
       "  </tbody>\n",
       "</table>\n",
       "<p>2665 rows × 3 columns</p>\n",
       "</div>"
      ],
      "text/plain": [
       "      time start   time high  sentiment\n",
       "0     1612137600  1612138500  21.574494\n",
       "1     1612138500  1612139400  26.129070\n",
       "2     1612139400  1612140300  29.471794\n",
       "3     1612140300  1612141200  25.015827\n",
       "4     1612141200  1612142100  20.294897\n",
       "...          ...         ...        ...\n",
       "2660  1614531600  1614532500  38.047072\n",
       "2661  1614532500  1614533400  23.071823\n",
       "2662  1614533400  1614534300  26.315925\n",
       "2663  1614534300  1614535200  35.276263\n",
       "2664  1614535200  1614536100  36.124316\n",
       "\n",
       "[2665 rows x 3 columns]"
      ]
     },
     "execution_count": 9,
     "metadata": {},
     "output_type": "execute_result"
    }
   ],
   "source": [
    "df1"
   ]
  },
  {
   "cell_type": "code",
   "execution_count": 10,
   "id": "39c55f13-98e5-4e0e-9c99-de914d9f8080",
   "metadata": {},
   "outputs": [],
   "source": [
    "import numpy as np\n",
    "senti = np.array(df1[\"sentiment\"])"
   ]
  },
  {
   "cell_type": "code",
   "execution_count": 11,
   "id": "8ff0d497-f41a-4e0a-ba3c-defeb165bef4",
   "metadata": {},
   "outputs": [
    {
     "data": {
      "text/plain": [
       "array([21.57449352, 26.12907041, 29.47179435, ..., 26.31592491,\n",
       "       35.27626321, 36.12431589])"
      ]
     },
     "execution_count": 11,
     "metadata": {},
     "output_type": "execute_result"
    }
   ],
   "source": [
    "senti"
   ]
  },
  {
   "cell_type": "code",
   "execution_count": 12,
   "id": "fa977117",
   "metadata": {},
   "outputs": [],
   "source": [
    "i = 0\n",
    "begin_val = str(begin).replace(\":\", \"-\")\n",
    "while df_p.iloc[i].dateTime < str(begin_val):\n",
    "    i += 1\n",
    "df_p = df_p[i:]"
   ]
  },
  {
   "cell_type": "code",
   "execution_count": 13,
   "id": "bb57c735-40cf-4809-9627-61c9e9e49086",
   "metadata": {},
   "outputs": [],
   "source": [
    "df_p.insert(6,\"Sentiment\",senti)"
   ]
  },
  {
   "cell_type": "code",
   "execution_count": 14,
   "id": "01f99cf3-60f1-4e40-a602-91acb7d9b6b6",
   "metadata": {},
   "outputs": [
    {
     "data": {
      "text/html": [
       "<div>\n",
       "<style scoped>\n",
       "    .dataframe tbody tr th:only-of-type {\n",
       "        vertical-align: middle;\n",
       "    }\n",
       "\n",
       "    .dataframe tbody tr th {\n",
       "        vertical-align: top;\n",
       "    }\n",
       "\n",
       "    .dataframe thead th {\n",
       "        text-align: right;\n",
       "    }\n",
       "</style>\n",
       "<table border=\"1\" class=\"dataframe\">\n",
       "  <thead>\n",
       "    <tr style=\"text-align: right;\">\n",
       "      <th></th>\n",
       "      <th>dateTime</th>\n",
       "      <th>open</th>\n",
       "      <th>high</th>\n",
       "      <th>low</th>\n",
       "      <th>close</th>\n",
       "      <th>volume</th>\n",
       "      <th>Sentiment</th>\n",
       "    </tr>\n",
       "  </thead>\n",
       "  <tbody>\n",
       "    <tr>\n",
       "      <th>22</th>\n",
       "      <td>2021-02-01 05-30-00</td>\n",
       "      <td>0.040052</td>\n",
       "      <td>0.040557</td>\n",
       "      <td>0.039120</td>\n",
       "      <td>0.040317</td>\n",
       "      <td>225333094.0</td>\n",
       "      <td>21.574494</td>\n",
       "    </tr>\n",
       "    <tr>\n",
       "      <th>23</th>\n",
       "      <td>2021-02-01 05-45-00</td>\n",
       "      <td>0.040335</td>\n",
       "      <td>0.040904</td>\n",
       "      <td>0.039804</td>\n",
       "      <td>0.040685</td>\n",
       "      <td>188514797.0</td>\n",
       "      <td>26.129070</td>\n",
       "    </tr>\n",
       "    <tr>\n",
       "      <th>24</th>\n",
       "      <td>2021-02-01 06-00-00</td>\n",
       "      <td>0.040685</td>\n",
       "      <td>0.042000</td>\n",
       "      <td>0.040506</td>\n",
       "      <td>0.040840</td>\n",
       "      <td>399989498.0</td>\n",
       "      <td>29.471794</td>\n",
       "    </tr>\n",
       "    <tr>\n",
       "      <th>25</th>\n",
       "      <td>2021-02-01 06-15-00</td>\n",
       "      <td>0.040801</td>\n",
       "      <td>0.041221</td>\n",
       "      <td>0.040368</td>\n",
       "      <td>0.041182</td>\n",
       "      <td>212693163.0</td>\n",
       "      <td>25.015827</td>\n",
       "    </tr>\n",
       "    <tr>\n",
       "      <th>26</th>\n",
       "      <td>2021-02-01 06-30-00</td>\n",
       "      <td>0.041194</td>\n",
       "      <td>0.041220</td>\n",
       "      <td>0.038444</td>\n",
       "      <td>0.038866</td>\n",
       "      <td>383893056.0</td>\n",
       "      <td>20.294897</td>\n",
       "    </tr>\n",
       "    <tr>\n",
       "      <th>...</th>\n",
       "      <td>...</td>\n",
       "      <td>...</td>\n",
       "      <td>...</td>\n",
       "      <td>...</td>\n",
       "      <td>...</td>\n",
       "      <td>...</td>\n",
       "      <td>...</td>\n",
       "    </tr>\n",
       "    <tr>\n",
       "      <th>2682</th>\n",
       "      <td>2021-02-28 23-00-00</td>\n",
       "      <td>0.048655</td>\n",
       "      <td>0.049170</td>\n",
       "      <td>0.048655</td>\n",
       "      <td>0.048959</td>\n",
       "      <td>18585671.0</td>\n",
       "      <td>38.047072</td>\n",
       "    </tr>\n",
       "    <tr>\n",
       "      <th>2683</th>\n",
       "      <td>2021-02-28 23-15-00</td>\n",
       "      <td>0.048958</td>\n",
       "      <td>0.049110</td>\n",
       "      <td>0.048802</td>\n",
       "      <td>0.048818</td>\n",
       "      <td>7464841.0</td>\n",
       "      <td>23.071823</td>\n",
       "    </tr>\n",
       "    <tr>\n",
       "      <th>2684</th>\n",
       "      <td>2021-02-28 23-30-00</td>\n",
       "      <td>0.048818</td>\n",
       "      <td>0.049004</td>\n",
       "      <td>0.048401</td>\n",
       "      <td>0.048467</td>\n",
       "      <td>12308931.0</td>\n",
       "      <td>26.315925</td>\n",
       "    </tr>\n",
       "    <tr>\n",
       "      <th>2685</th>\n",
       "      <td>2021-02-28 23-45-00</td>\n",
       "      <td>0.048439</td>\n",
       "      <td>0.048453</td>\n",
       "      <td>0.047900</td>\n",
       "      <td>0.048158</td>\n",
       "      <td>27693957.0</td>\n",
       "      <td>35.276263</td>\n",
       "    </tr>\n",
       "    <tr>\n",
       "      <th>2686</th>\n",
       "      <td>2021-03-01 00-00-00</td>\n",
       "      <td>0.048145</td>\n",
       "      <td>0.048445</td>\n",
       "      <td>0.048004</td>\n",
       "      <td>0.048445</td>\n",
       "      <td>22870947.0</td>\n",
       "      <td>36.124316</td>\n",
       "    </tr>\n",
       "  </tbody>\n",
       "</table>\n",
       "<p>2665 rows × 7 columns</p>\n",
       "</div>"
      ],
      "text/plain": [
       "                 dateTime      open      high       low     close  \\\n",
       "22    2021-02-01 05-30-00  0.040052  0.040557  0.039120  0.040317   \n",
       "23    2021-02-01 05-45-00  0.040335  0.040904  0.039804  0.040685   \n",
       "24    2021-02-01 06-00-00  0.040685  0.042000  0.040506  0.040840   \n",
       "25    2021-02-01 06-15-00  0.040801  0.041221  0.040368  0.041182   \n",
       "26    2021-02-01 06-30-00  0.041194  0.041220  0.038444  0.038866   \n",
       "...                   ...       ...       ...       ...       ...   \n",
       "2682  2021-02-28 23-00-00  0.048655  0.049170  0.048655  0.048959   \n",
       "2683  2021-02-28 23-15-00  0.048958  0.049110  0.048802  0.048818   \n",
       "2684  2021-02-28 23-30-00  0.048818  0.049004  0.048401  0.048467   \n",
       "2685  2021-02-28 23-45-00  0.048439  0.048453  0.047900  0.048158   \n",
       "2686  2021-03-01 00-00-00  0.048145  0.048445  0.048004  0.048445   \n",
       "\n",
       "           volume  Sentiment  \n",
       "22    225333094.0  21.574494  \n",
       "23    188514797.0  26.129070  \n",
       "24    399989498.0  29.471794  \n",
       "25    212693163.0  25.015827  \n",
       "26    383893056.0  20.294897  \n",
       "...           ...        ...  \n",
       "2682   18585671.0  38.047072  \n",
       "2683    7464841.0  23.071823  \n",
       "2684   12308931.0  26.315925  \n",
       "2685   27693957.0  35.276263  \n",
       "2686   22870947.0  36.124316  \n",
       "\n",
       "[2665 rows x 7 columns]"
      ]
     },
     "execution_count": 14,
     "metadata": {},
     "output_type": "execute_result"
    }
   ],
   "source": [
    "df_p"
   ]
  },
  {
   "cell_type": "code",
   "execution_count": 15,
   "id": "38b0495a-8c98-4e74-b244-9d335d2f3d8d",
   "metadata": {},
   "outputs": [],
   "source": [
    "df_p.to_csv(\"aligned_doge.csv\")"
   ]
  }
 ],
 "metadata": {
  "kernelspec": {
   "display_name": "Python 3 (ipykernel)",
   "language": "python",
   "name": "python3"
  },
  "language_info": {
   "codemirror_mode": {
    "name": "ipython",
    "version": 3
   },
   "file_extension": ".py",
   "mimetype": "text/x-python",
   "name": "python",
   "nbconvert_exporter": "python",
   "pygments_lexer": "ipython3",
   "version": "3.10.9"
  }
 },
 "nbformat": 4,
 "nbformat_minor": 5
}
