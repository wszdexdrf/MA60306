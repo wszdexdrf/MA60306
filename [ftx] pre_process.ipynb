{
  "cells": [
    {
      "cell_type": "code",
      "execution_count": 1,
      "metadata": {
        "colab": {
          "base_uri": "https://localhost:8080/"
        },
        "id": "xhbinQ3NTBWq",
        "outputId": "e4fc97da-3d23-415d-c767-455d0fcc9b0f"
      },
      "outputs": [],
      "source": [
        "# ! gdown 1qhn9-RgkfFHIGD7pDGIvwjQehGKM-5Bi"
      ]
    },
    {
      "cell_type": "code",
      "execution_count": 2,
      "metadata": {
        "id": "1ZrjgUAYUCrF"
      },
      "outputs": [],
      "source": [
        "from textblob import TextBlob"
      ]
    },
    {
      "cell_type": "code",
      "execution_count": 3,
      "metadata": {
        "id": "pL_marYUSzvZ"
      },
      "outputs": [],
      "source": [
        "import pandas as pd\n",
        "df = pd.read_csv('./scraping/ftx.csv')"
      ]
    },
    {
      "cell_type": "code",
      "execution_count": 4,
      "metadata": {
        "colab": {
          "base_uri": "https://localhost:8080/",
          "height": 424
        },
        "id": "Eeq7GrDPTOqx",
        "outputId": "cd5af40f-676e-461d-d7e5-b2e84605e5ba"
      },
      "outputs": [
        {
          "data": {
            "text/html": [
              "<div>\n",
              "<style scoped>\n",
              "    .dataframe tbody tr th:only-of-type {\n",
              "        vertical-align: middle;\n",
              "    }\n",
              "\n",
              "    .dataframe tbody tr th {\n",
              "        vertical-align: top;\n",
              "    }\n",
              "\n",
              "    .dataframe thead th {\n",
              "        text-align: right;\n",
              "    }\n",
              "</style>\n",
              "<table border=\"1\" class=\"dataframe\">\n",
              "  <thead>\n",
              "    <tr style=\"text-align: right;\">\n",
              "      <th></th>\n",
              "      <th>Datetime</th>\n",
              "      <th>Tweet Id</th>\n",
              "      <th>Text</th>\n",
              "      <th>Username</th>\n",
              "      <th>Followers</th>\n",
              "    </tr>\n",
              "  </thead>\n",
              "  <tbody>\n",
              "    <tr>\n",
              "      <th>0</th>\n",
              "      <td>1.669853e+09</td>\n",
              "      <td>1598104583779516417</td>\n",
              "      <td>@MarioNawfal @SBF_FTX When you headed to priso...</td>\n",
              "      <td>mnboy1989</td>\n",
              "      <td>76</td>\n",
              "    </tr>\n",
              "    <tr>\n",
              "      <th>1</th>\n",
              "      <td>1.669853e+09</td>\n",
              "      <td>1598104576112332800</td>\n",
              "      <td>'I didn't ever try to commit fraud on anyone,'...</td>\n",
              "      <td>ftxtracktbot</td>\n",
              "      <td>5</td>\n",
              "    </tr>\n",
              "    <tr>\n",
              "      <th>2</th>\n",
              "      <td>1.669853e+09</td>\n",
              "      <td>1598104573398360064</td>\n",
              "      <td>How CZ helps a friend SAM (FTX) https://t.co/Z...</td>\n",
              "      <td>cryptocapitalto</td>\n",
              "      <td>18</td>\n",
              "    </tr>\n",
              "    <tr>\n",
              "      <th>3</th>\n",
              "      <td>1.669853e+09</td>\n",
              "      <td>1598104567845355520</td>\n",
              "      <td>@BrynneKKelly And as Joe average gets his gold...</td>\n",
              "      <td>7h0ras1c</td>\n",
              "      <td>99</td>\n",
              "    </tr>\n",
              "    <tr>\n",
              "      <th>4</th>\n",
              "      <td>1.669853e+09</td>\n",
              "      <td>1598104567639465984</td>\n",
              "      <td>@BrynneKKelly And as Joe average gets his gold...</td>\n",
              "      <td>7h0ras1c</td>\n",
              "      <td>99</td>\n",
              "    </tr>\n",
              "    <tr>\n",
              "      <th>...</th>\n",
              "      <td>...</td>\n",
              "      <td>...</td>\n",
              "      <td>...</td>\n",
              "      <td>...</td>\n",
              "      <td>...</td>\n",
              "    </tr>\n",
              "    <tr>\n",
              "      <th>355602</th>\n",
              "      <td>1.668956e+09</td>\n",
              "      <td>1594342047581732869</td>\n",
              "      <td>Institutional trading firm Genesis announced o...</td>\n",
              "      <td>PremSag24970777</td>\n",
              "      <td>2</td>\n",
              "    </tr>\n",
              "    <tr>\n",
              "      <th>355603</th>\n",
              "      <td>1.668956e+09</td>\n",
              "      <td>1594342035649335298</td>\n",
              "      <td>Криптовалютная торговая площадка FTX объявила,...</td>\n",
              "      <td>bits_media</td>\n",
              "      <td>6109</td>\n",
              "    </tr>\n",
              "    <tr>\n",
              "      <th>355604</th>\n",
              "      <td>1.668956e+09</td>\n",
              "      <td>1594342029957685249</td>\n",
              "      <td>@JamesBradleyCA thought it was up to the peopl...</td>\n",
              "      <td>TheScot60</td>\n",
              "      <td>45</td>\n",
              "    </tr>\n",
              "    <tr>\n",
              "      <th>355605</th>\n",
              "      <td>1.668956e+09</td>\n",
              "      <td>1594342028522835968</td>\n",
              "      <td>吴说获悉，根据披露的债权人文件，FTX 集团前五十大债权人的未担保债权达到约 30 亿美金，...</td>\n",
              "      <td>wublockchain12</td>\n",
              "      <td>75277</td>\n",
              "    </tr>\n",
              "    <tr>\n",
              "      <th>355606</th>\n",
              "      <td>1.668956e+09</td>\n",
              "      <td>1594342022680567811</td>\n",
              "      <td>@CatEyes07666 @laurenboebert This woman made m...</td>\n",
              "      <td>katwell263</td>\n",
              "      <td>86</td>\n",
              "    </tr>\n",
              "  </tbody>\n",
              "</table>\n",
              "<p>355607 rows × 5 columns</p>\n",
              "</div>"
            ],
            "text/plain": [
              "            Datetime             Tweet Id  \\\n",
              "0       1.669853e+09  1598104583779516417   \n",
              "1       1.669853e+09  1598104576112332800   \n",
              "2       1.669853e+09  1598104573398360064   \n",
              "3       1.669853e+09  1598104567845355520   \n",
              "4       1.669853e+09  1598104567639465984   \n",
              "...              ...                  ...   \n",
              "355602  1.668956e+09  1594342047581732869   \n",
              "355603  1.668956e+09  1594342035649335298   \n",
              "355604  1.668956e+09  1594342029957685249   \n",
              "355605  1.668956e+09  1594342028522835968   \n",
              "355606  1.668956e+09  1594342022680567811   \n",
              "\n",
              "                                                     Text         Username  \\\n",
              "0       @MarioNawfal @SBF_FTX When you headed to priso...        mnboy1989   \n",
              "1       'I didn't ever try to commit fraud on anyone,'...     ftxtracktbot   \n",
              "2       How CZ helps a friend SAM (FTX) https://t.co/Z...  cryptocapitalto   \n",
              "3       @BrynneKKelly And as Joe average gets his gold...         7h0ras1c   \n",
              "4       @BrynneKKelly And as Joe average gets his gold...         7h0ras1c   \n",
              "...                                                   ...              ...   \n",
              "355602  Institutional trading firm Genesis announced o...  PremSag24970777   \n",
              "355603  Криптовалютная торговая площадка FTX объявила,...       bits_media   \n",
              "355604  @JamesBradleyCA thought it was up to the peopl...        TheScot60   \n",
              "355605  吴说获悉，根据披露的债权人文件，FTX 集团前五十大债权人的未担保债权达到约 30 亿美金，...   wublockchain12   \n",
              "355606  @CatEyes07666 @laurenboebert This woman made m...       katwell263   \n",
              "\n",
              "        Followers  \n",
              "0              76  \n",
              "1               5  \n",
              "2              18  \n",
              "3              99  \n",
              "4              99  \n",
              "...           ...  \n",
              "355602          2  \n",
              "355603       6109  \n",
              "355604         45  \n",
              "355605      75277  \n",
              "355606         86  \n",
              "\n",
              "[355607 rows x 5 columns]"
            ]
          },
          "execution_count": 4,
          "metadata": {},
          "output_type": "execute_result"
        }
      ],
      "source": [
        "df"
      ]
    },
    {
      "cell_type": "code",
      "execution_count": 5,
      "metadata": {
        "colab": {
          "base_uri": "https://localhost:8080/"
        },
        "id": "HgxxL_2mTs0L",
        "outputId": "58ae8e65-c1fe-4889-c9bc-e77958ed9fa4"
      },
      "outputs": [
        {
          "name": "stderr",
          "output_type": "stream",
          "text": [
            "[nltk_data] Downloading package stopwords to\n",
            "[nltk_data]     /home/piyushk/nltk_data...\n",
            "[nltk_data]   Package stopwords is already up-to-date!\n"
          ]
        }
      ],
      "source": [
        "import re\n",
        "import nltk\n",
        "from nltk import PorterStemmer\n",
        "ps = PorterStemmer()\n",
        "nltk.download(\"stopwords\")\n",
        "from nltk.corpus import stopwords\n",
        "stop = stopwords.words('english')\n",
        "def cleantweets(txt):\n",
        "  # Remove mentions\n",
        "  txt = re.sub(r\"@\",\"\", txt)\n",
        "  # Remove hashtags\n",
        "  txt = re.sub(r\"#\",\"\", txt)\n",
        "  # Remove urls\n",
        "  txt = re.sub(r\"https?:\\/\\/[ A−Za−z0 −9\\.\\/]+\", \"\", txt)\n",
        "  # Remove Stop Words\n",
        "  txt = ' '.join([word for word in txt.split() if word not in (stop)])\n",
        "  #Stemming\n",
        "  txt = ' '.join([ps.stem(word) for word in txt.split()])\n",
        "  return txt"
      ]
    },
    {
      "cell_type": "code",
      "execution_count": 6,
      "metadata": {
        "id": "A4GGGazWTttD"
      },
      "outputs": [],
      "source": [
        "def getsubjectivity(txt):\n",
        "  return TextBlob(txt).sentiment.subjectivity"
      ]
    },
    {
      "cell_type": "code",
      "execution_count": 7,
      "metadata": {
        "id": "xM45xV7mTwS1"
      },
      "outputs": [],
      "source": [
        "def getpolarity(txt):\n",
        "  return TextBlob(txt).sentiment.polarity"
      ]
    },
    {
      "cell_type": "code",
      "execution_count": 8,
      "metadata": {
        "id": "ze4da8HFTyAe"
      },
      "outputs": [],
      "source": [
        "def getanalysis(a):\n",
        "  if a < 0:\n",
        "    return \"Negative\"\n",
        "  elif a == 0:\n",
        "    return \"Neutral\"\n",
        "  else:\n",
        "    return \"Positive\""
      ]
    },
    {
      "cell_type": "code",
      "execution_count": 9,
      "metadata": {
        "id": "ShUe_HnjTzyH"
      },
      "outputs": [],
      "source": [
        "def prepare_twitter_data(tweet_data):\n",
        "  results = tweet_data.copy()\n",
        "  results[\"clean text\"] = results[\"Text\"].apply(cleantweets)\n",
        "  results[\"polarity\"] = results[\"Text\"].apply(getpolarity)\n",
        "  results[\"subjectivity\"] = results[\"Text\"].apply(getsubjectivity)\n",
        "  results[\"tweet_class\"] = results[\"polarity\"].apply(getanalysis)\n",
        "  return results"
      ]
    },
    {
      "cell_type": "code",
      "execution_count": 11,
      "metadata": {
        "id": "11KeDKKWT4qP"
      },
      "outputs": [],
      "source": [
        "processed_tweets = prepare_twitter_data(df)"
      ]
    },
    {
      "cell_type": "code",
      "execution_count": null,
      "metadata": {
        "colab": {
          "base_uri": "https://localhost:8080/"
        },
        "id": "fxErolVgfBrI",
        "outputId": "a1ee835c-f7cc-4e43-fba7-dd0d6b2e403c"
      },
      "outputs": [],
      "source": [
        "from langdetect import detect\n",
        "\n",
        "df = pd.DataFrame(\n",
        "    columns=[\n",
        "        \"Datetime\",\n",
        "        \"Tweet Id\",\n",
        "        \"Text\",\n",
        "        \"Username\",\n",
        "        \"Followers\",\n",
        "        \"clean text\",\n",
        "        \"polarity\",\n",
        "        \"subjectivity\",\n",
        "        \"tweet_class\",\n",
        "    ]\n",
        ")\n",
        "from contextlib import suppress\n",
        "import multiprocessing\n",
        "\n",
        "def filter_en_text(i, x):\n",
        "    with suppress(Exception):\n",
        "        return detect(x) == \"en\"\n",
        "with multiprocessing.Pool() as pool:\n",
        "    # Use the pool to apply the filter function to each element in parallel\n",
        "    results = pool.starmap(filter_en_text, enumerate(processed_tweets[\"clean text\"].values))\n",
        "    # Filter the original DataFrame using the results\n",
        "    results = [False if v is None else v for v in results]\n",
        "    df = processed_tweets[results]"
      ]
    },
    {
      "cell_type": "code",
      "execution_count": null,
      "metadata": {
        "id": "bhyTZzL4dv31"
      },
      "outputs": [],
      "source": [
        "processed_tweets.to_csv('[ftx] processed_tweets.csv')"
      ]
    }
  ],
  "metadata": {
    "colab": {
      "provenance": []
    },
    "kernelspec": {
      "display_name": "Python 3",
      "name": "python3"
    },
    "language_info": {
      "codemirror_mode": {
        "name": "ipython",
        "version": 3
      },
      "file_extension": ".py",
      "mimetype": "text/x-python",
      "name": "python",
      "nbconvert_exporter": "python",
      "pygments_lexer": "ipython3",
      "version": "3.10.10"
    }
  },
  "nbformat": 4,
  "nbformat_minor": 0
}
